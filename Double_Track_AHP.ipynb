{
 "cells": [
  {
   "attachments": {},
   "cell_type": "markdown",
   "metadata": {},
   "source": [
    "# Recommendation System for Selecting Skills in Double Track High School Program Using AHP Method\n",
    "\n",
    "This is an example implementation of the Analytic Hierarchy Process (AHP) decision-making algorithm to provide recommendations for skill areas that align with the preferences of students who will be participating in the Double Track High School Program.\n",
    "\n",
    "### Skill Areas\n",
    "There are 7 skill areas available for students to choose from. These skill areas include multimedia, electrotechnics, electrical, culinary, beauty care, fashion, and light vehicle/motorcycle arrangement.\n",
    "\n",
    "### Criteria\n",
    "There are 6 criteria used to assess the suitability of a skill area with a student's preferences. These criteria include the number of jobs, salary, gender, entrepreneurial opportunity, interest, and skill difficulty."
   ]
  },
  {
   "attachments": {},
   "cell_type": "markdown",
   "metadata": {},
   "source": [
    "## AHP Steps\n",
    "\n",
    "### 1. Define criteria, alternatives, and the pairwise comparison matrix"
   ]
  },
  {
   "cell_type": "code",
   "execution_count": 57,
   "metadata": {},
   "outputs": [],
   "source": [
    "import pandas as pd\n",
    "df = pd.read_csv(\"assets/dataset.csv\")\n",
    "\n",
    "criteria = df.columns\n",
    "criteria = criteria.drop(labels=\"skill_field\")\n",
    "alternative = df.get(key=\"skill_field\")\n",
    "\n",
    "# determine pairwise comparison matrix\n",
    "pairwise_matrix = [\n",
    "    [1, 6, 2, 1, 1, 3],\n",
    "    [1/6, 1, 3, 1, 1/6, 4],\n",
    "    [1/2, 1/3, 1, 1, 1/5, 1/7],\n",
    "    [1, 1, 1, 1, 1/3, 4],\n",
    "    [1, 6, 5, 3, 1, 1],\n",
    "    [1/3, 1/4, 7, 1/4, 1, 1]\n",
    "]\n",
    "\n",
    "length = len(criteria)\n"
   ]
  },
  {
   "attachments": {},
   "cell_type": "markdown",
   "metadata": {},
   "source": [
    "### 2. Normalize the pairwise comparison matrix\n",
    "\n",
    "Normalize the pairwise comparison matrix by dividing each element in the matrix by the sum of the elements in the column."
   ]
  },
  {
   "cell_type": "code",
   "execution_count": 58,
   "metadata": {},
   "outputs": [
    {
     "data": {
      "text/plain": [
       "[4.0, 14.583333333333332, 19.0, 7.25, 3.7, 13.142857142857142]"
      ]
     },
     "execution_count": 58,
     "metadata": {},
     "output_type": "execute_result"
    }
   ],
   "source": [
    "calculated_sum = [0.0] * length\n",
    "for row in range(length):\n",
    "    for col in range(length):\n",
    "        calculated_sum[row] += pairwise_matrix[col][row]\n",
    "calculated_sum"
   ]
  },
  {
   "cell_type": "code",
   "execution_count": 59,
   "metadata": {},
   "outputs": [
    {
     "data": {
      "text/plain": [
       "[[0.25,\n",
       "  0.4114285714285715,\n",
       "  0.10526315789473684,\n",
       "  0.13793103448275862,\n",
       "  0.27027027027027023,\n",
       "  0.2282608695652174],\n",
       " [0.041666666666666664,\n",
       "  0.06857142857142857,\n",
       "  0.15789473684210525,\n",
       "  0.13793103448275862,\n",
       "  0.04504504504504504,\n",
       "  0.30434782608695654],\n",
       " [0.125,\n",
       "  0.022857142857142857,\n",
       "  0.05263157894736842,\n",
       "  0.13793103448275862,\n",
       "  0.05405405405405406,\n",
       "  0.010869565217391304],\n",
       " [0.25,\n",
       "  0.06857142857142857,\n",
       "  0.05263157894736842,\n",
       "  0.13793103448275862,\n",
       "  0.09009009009009009,\n",
       "  0.30434782608695654],\n",
       " [0.25,\n",
       "  0.4114285714285715,\n",
       "  0.2631578947368421,\n",
       "  0.41379310344827586,\n",
       "  0.27027027027027023,\n",
       "  0.07608695652173914],\n",
       " [0.08333333333333333,\n",
       "  0.017142857142857144,\n",
       "  0.3684210526315789,\n",
       "  0.034482758620689655,\n",
       "  0.27027027027027023,\n",
       "  0.07608695652173914]]"
      ]
     },
     "execution_count": 59,
     "metadata": {},
     "output_type": "execute_result"
    }
   ],
   "source": [
    "normalized_matrix = [[0.0] * length for _ in range(length)]\n",
    "for row in range(length):\n",
    "      for col in range(length):\n",
    "        normalized_matrix[row][col] = (pairwise_matrix[row][col] / calculated_sum[col])\n",
    "normalized_matrix"
   ]
  },
  {
   "attachments": {},
   "cell_type": "markdown",
   "metadata": {},
   "source": [
    "### 3. Calculate the criteria weight vector\n",
    "\n",
    "Calculate the criteria weight vector by averaging the elements in each row of the normalized pairwise comparison matrix."
   ]
  },
  {
   "cell_type": "code",
   "execution_count": 60,
   "metadata": {},
   "outputs": [
    {
     "data": {
      "text/plain": [
       "[0.23385898394025909,\n",
       " 0.12590945628249345,\n",
       " 0.06722389592645255,\n",
       " 0.15059532636310036,\n",
       " 0.28078946606761646,\n",
       " 0.14162287142007807]"
      ]
     },
     "execution_count": 60,
     "metadata": {},
     "output_type": "execute_result"
    }
   ],
   "source": [
    "criteria_weights = [0.0] * length\n",
    "for x in range(length):\n",
    "    criteria_weights[x] = sum(normalized_matrix[x]) / length\n",
    "criteria_weights"
   ]
  },
  {
   "attachments": {},
   "cell_type": "markdown",
   "metadata": {},
   "source": [
    "### 4. Calculate the consistency index (CI) and consistency ratio (CR)\n",
    "\n",
    "Calculate the consistency index (CI) by multiplying the pairwise comparison matrix with the criteria weight vector. Then, calculate the consistency ratio (CR) by dividing the CI by the random index (RI).\n",
    "\n",
    "If the CR is less than 0.1, the pairwise comparison matrix is considered consistent."
   ]
  },
  {
   "cell_type": "code",
   "execution_count": 61,
   "metadata": {},
   "outputs": [
    {
     "name": "stdout",
     "output_type": "stream",
     "text": [
      "CR is BAD\n",
      "CR = 0.3113273970327574\n"
     ]
    }
   ],
   "source": [
    "temp = [[0.0] * length for _ in range(length)]\n",
    "weighted_sum_value = [0.0] * length\n",
    "ratio = [0.0] * length\n",
    "for x in range(length):\n",
    "    for y in range(length):\n",
    "        temp[x][y] = pairwise_matrix[x][y] * criteria_weights[y]\n",
    "        weighted_sum_value[x] += temp[x][y]\n",
    "        \n",
    "for x in range(length):\n",
    "    ratio[x] += weighted_sum_value[x] / criteria_weights[x]\n",
    "\n",
    "sum_temp = 0.0\n",
    "for val in ratio:\n",
    "    sum_temp += val\n",
    "lambda_max = sum_temp / length    \n",
    "ci = (lambda_max - length) / (length - 1)\n",
    "random_index = [0.0, 0.0, 0.0, 0.58, 0.90, 1.12, 1.24, 1.32, 1.41, 1.45, 1.49] \n",
    "cr = ci / random_index[length]\n",
    "if cr < 0.10:\n",
    "    print(f\"CR is OK\\nCR = {cr}\")\n",
    "else:\n",
    "    print(f\"CR is BAD\\nCR = {cr}\")"
   ]
  },
  {
   "cell_type": "code",
   "execution_count": 62,
   "metadata": {},
   "outputs": [
    {
     "name": "stdout",
     "output_type": "stream",
     "text": [
      "interest: 0.28078946606761646\n",
      "number_of_jobs: 0.23385898394025909\n",
      "entrepreneurial_opportunity: 0.15059532636310036\n",
      "skill_dificulty: 0.14162287142007807\n",
      "salary: 0.12590945628249345\n",
      "gender: 0.06722389592645255\n"
     ]
    }
   ],
   "source": [
    "# Show the criteria weights for each criteria\n",
    "criteria_dict = {key: value for key, value in zip(criteria, criteria_weights)}\n",
    "sorted_criteria =  dict(sorted(criteria_dict.items(), key=lambda x: x[1], reverse=True))\n",
    "for criteria, weight in sorted_criteria.items():\n",
    "    print(f\"{criteria}: {weight}\")"
   ]
  },
  {
   "attachments": {},
   "cell_type": "markdown",
   "metadata": {},
   "source": [
    "### 5. Ranke the alternatives\n",
    "\n",
    "Create and normalized decision matrix by dividing each element in the decision matrix by the sum of the elements in the column. Then, calculate the weighted decision matrix by multiplying the normalized decision matrix with the criteria weight vector.\n",
    "\n",
    "Finally, calculate the weighted sum of each alternative by summing the elements in each row of the weighted decision matrix. The alternative with the highest weighted sum is the recommended alternative."
   ]
  },
  {
   "cell_type": "code",
   "execution_count": 63,
   "metadata": {},
   "outputs": [
    {
     "name": "stdout",
     "output_type": "stream",
     "text": [
      "multimedia: 0.1612649325020518\n",
      "light_vehicle_arrangement: 0.15020063055049485\n",
      "fashion: 0.1418922277959203\n",
      "beauty_care: 0.13969825458473772\n",
      "electrotechnics: 0.137840427046421\n",
      "electrical: 0.13635168920823026\n",
      "cullinary: 0.132751838312144\n"
     ]
    }
   ],
   "source": [
    "decision_matrix = df.drop(labels=\"skill_field\", axis=1).values\n",
    "normalized_decision_matrix = []\n",
    "\n",
    "for row in decision_matrix:\n",
    "    row_sum = sum(row)\n",
    "    normalized_row = [val / row_sum for val in row]\n",
    "    normalized_decision_matrix.append(normalized_row)\n",
    "\n",
    "weighted_scores = []\n",
    "for row in normalized_decision_matrix:\n",
    "    weighted_score = sum([val * weight for val, weight in zip(row, criteria_weights)])\n",
    "    weighted_scores.append(weighted_score)\n",
    "\n",
    "total_weighted_score = sum(weighted_scores)\n",
    "overall_priorities = [score / total_weighted_score for score in weighted_scores]\n",
    "\n",
    "ranked_alternatives = sorted(zip(alternative, overall_priorities), key=lambda x: x[1], reverse=True)\n",
    "\n",
    "for key, value in ranked_alternatives:\n",
    "    print(f\"{key}: {value}\")"
   ]
  }
 ],
 "metadata": {
  "kernelspec": {
   "display_name": "Python 3",
   "language": "python",
   "name": "python3"
  },
  "language_info": {
   "codemirror_mode": {
    "name": "ipython",
    "version": 3
   },
   "file_extension": ".py",
   "mimetype": "text/x-python",
   "name": "python",
   "nbconvert_exporter": "python",
   "pygments_lexer": "ipython3",
   "version": "3.9.2"
  },
  "orig_nbformat": 4
 },
 "nbformat": 4,
 "nbformat_minor": 2
}
